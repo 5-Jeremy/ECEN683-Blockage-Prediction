{
 "cells": [
  {
   "cell_type": "code",
   "execution_count": null,
   "metadata": {},
   "outputs": [],
   "source": [
    "# Automatically reload files when they are changed so there is no need to restart the kernel.\n",
    "%load_ext autoreload\n",
    "%autoreload 2\n",
    "\n",
    "import torch\n",
    "from torch import nn\n",
    "import numpy as np\n",
    "import random\n",
    "import matplotlib.pyplot as plt\n",
    "import pickle\n",
    "\n",
    "torch.backends.cudnn.deterministic = True\n",
    "\n",
    "# This is the seed that I used to get the reported accuracy levels\n",
    "seed = 2023\n",
    "def reset_seed():\n",
    "\ttorch.manual_seed(seed)\n",
    "\trandom.seed(seed)\n",
    "\tnp.random.seed(seed)\n",
    "\n",
    "def cuda_get_device():\n",
    "\tis_cuda = torch.cuda.is_available()\n",
    "\tif is_cuda:\n",
    "\t\treturn torch.device(\"cuda\")\n",
    "\telse:\n",
    "\t\tprint(\"GPU not available, CPU used\")\n",
    "\t\treturn torch.device(\"cpu\")\n",
    "\n",
    "# Define the model class\n",
    "class GRUWithConvLayer(nn.Module):\n",
    "\tdef __init__(self, input_size, output_size, hidden_dim, conv_dropout, fc_dropout, second_layer=False):\n",
    "\t\tsuper(GRUWithConvLayer, self).__init__()\n",
    "\t\tself.hidden_dim = hidden_dim\n",
    "\t\tkernel_size = 5\n",
    "\t\tpadding = 0\n",
    "\t\tself.convlayer = nn.Conv2d(1, 1, (kernel_size, kernel_size), stride=1, padding=padding)\n",
    "\t\tself.batchnorm = nn.BatchNorm2d(1)\n",
    "\t\tself.conv_dropout = nn.Dropout(p=conv_dropout)\n",
    "\t\tself.gru = nn.GRU(input_size=input_size - (kernel_size - 1) + 2*padding, hidden_size=hidden_dim, batch_first=True)\n",
    "\t\tself.fc_dropout = nn.Dropout(p=fc_dropout)\n",
    "\t\tself.second_layer = second_layer\n",
    "\t\tif second_layer:\n",
    "\t\t\tintermediate_dim = 100\n",
    "\t\t\tself.fc1= nn.Linear(hidden_dim, intermediate_dim)\n",
    "\t\t\tself.fc2 = nn.Linear(intermediate_dim, output_size)\n",
    "\t\telse:\n",
    "\t\t\tself.fc1 = nn.Linear(hidden_dim, output_size)\n",
    "\t\n",
    "\tdef forward(self, x):\n",
    "\t\tafter_conv = self.batchnorm(self.convlayer(x)).squeeze(1)\n",
    "\t\tafter_conv_drop = self.conv_dropout(after_conv)\n",
    "\t\thidden = self.gru(after_conv_drop)[0]\n",
    "\t\tif self.second_layer:\n",
    "\t\t\tout = self.fc1(hidden)\n",
    "\t\t\tout = self.fc_dropout(out)\n",
    "\t\t\tout = self.fc2(out)\n",
    "\t\telse:\n",
    "\t\t\tout = self.fc1(hidden)\n",
    "\t\treturn out"
   ]
  },
  {
   "cell_type": "code",
   "execution_count": null,
   "metadata": {},
   "outputs": [],
   "source": [
    "%matplotlib widget\n",
    "\n",
    "reset_seed()"
   ]
  }
 ],
 "metadata": {
  "language_info": {
   "name": "python"
  }
 },
 "nbformat": 4,
 "nbformat_minor": 2
}
